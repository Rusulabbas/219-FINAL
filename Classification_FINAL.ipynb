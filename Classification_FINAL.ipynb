{
  "nbformat": 4,
  "nbformat_minor": 0,
  "metadata": {
    "colab": {
      "provenance": [],
      "include_colab_link": true
    },
    "kernelspec": {
      "name": "python3",
      "display_name": "Python 3"
    },
    "language_info": {
      "name": "python"
    }
  },
  "cells": [
    {
      "cell_type": "markdown",
      "metadata": {
        "id": "view-in-github",
        "colab_type": "text"
      },
      "source": [
        "<a href=\"https://colab.research.google.com/github/Rusulabbas/219-FINAL/blob/main/Classification_FINAL.ipynb\" target=\"_parent\"><img src=\"https://colab.research.google.com/assets/colab-badge.svg\" alt=\"Open In Colab\"/></a>"
      ]
    },
    {
      "cell_type": "code",
      "execution_count": 2,
      "metadata": {
        "id": "IGw3UG92R8MS"
      },
      "outputs": [],
      "source": [
        "import numpy as np\n",
        "import pandas as pd\n",
        "from sklearn.neighbors import KNeighborsClassifier\n",
        "from sklearn.preprocessing import OneHotEncoder, StandardScaler\n",
        "from sklearn.feature_extraction.text import TfidfVectorizer\n",
        "from sklearn.compose import make_column_transformer\n",
        "from sklearn.pipeline import make_pipeline\n",
        "from sklearn.neighbors import KNeighborsRegressor\n",
        "from sklearn.model_selection import cross_val_score\n",
        "from sklearn.metrics import mean_squared_error\n",
        "from sklearn.neighbors import KNeighborsClassifier\n",
        "from itertools import combinations\n",
        "from sklearn.preprocessing import OneHotEncoder\n",
        "from sklearn.tree import DecisionTreeClassifier\n",
        "from sklearn.linear_model import LogisticRegression\n",
        "from sklearn.metrics import confusion_matrix\n",
        "import pandas as pd\n",
        "from sklearn.metrics import precision_recall_curve\n",
        "from sklearn.metrics import confusion_matrix\n",
        "from sklearn import datasets, linear_model\n",
        "from sklearn.model_selection import cross_val_predict\n",
        "from scipy.stats import chi2_contingency"
      ]
    },
    {
      "cell_type": "markdown",
      "source": [
        "#Chi-Squared Test\n",
        "\n",
        "Here we conducted a chi-square test between our categorical variables and our predictor on NObeyesdad. If our p-value is below our alpha of 0.05, it is a good category to use for our test\n",
        "\n",
        "WHY??? We had problems using quantitative columns so we decided it was best to use only categorical columns\n"
      ],
      "metadata": {
        "id": "KzqiLwGiJfIX"
      }
    },
    {
      "cell_type": "code",
      "source": [
        "#Uploading data and droping the Age column\n",
        "url = 'https://raw.githubusercontent.com/Rusulabbas/219-FINAL/main/ObesityDataSet.csv'\n",
        "df = pd.read_csv(url)\n",
        "df = df.dropna()\n",
        "df = df.drop(['Age'], axis=1)\n",
        "df.head(15)"
      ],
      "metadata": {
        "id": "T3ETvjjwShqD"
      },
      "execution_count": null,
      "outputs": []
    },
    {
      "cell_type": "code",
      "source": [
        "\n",
        "\n",
        "#Prefome chi-square test\n",
        "# Create a crosstab between all the different variables that are categorical\n",
        "cross_tab = pd.crosstab(df['MTRANS'], df['NObeyesdad'])\n",
        "cross_tab\n",
        "#run the Chi-square test, p value, and dagrees of freedom\n",
        "chi2, p, dof, expected = chi2_contingency(cross_tab)\n",
        "p"
      ],
      "metadata": {
        "id": "6vojS_ywJ_dE",
        "outputId": "11ae89b2-c11a-4f27-d5c2-c62ba6494756",
        "colab": {
          "base_uri": "https://localhost:8080/"
        }
      },
      "execution_count": 5,
      "outputs": [
        {
          "output_type": "execute_result",
          "data": {
            "text/plain": [
              "5.177915203835779e-48"
            ]
          },
          "metadata": {},
          "execution_count": 5
        }
      ]
    },
    {
      "cell_type": "markdown",
      "source": [
        "We ran the test on EVERY categorical Valies and here were the results. The code above is to show the process."
      ],
      "metadata": {
        "id": "m9zuPrTbLrEN"
      }
    },
    {
      "cell_type": "markdown",
      "source": [
        "P - values of every variable from least to greatest\n",
        "\n",
        "1. Gender: 8.088897293329991e-139\n",
        "\n",
        "2. family_history_with_overweight: 4.2280167944705074e-131\n",
        "\n",
        "3. CAEC: 7.383852893286775e-159\n",
        "\n",
        "4. FAVC: 1.4822362082358762e-47\n",
        "\n",
        "5. MTRANS: 5.177915203835779e-48\n",
        "\n",
        "6. SCC: 3.773175792377203e-24\n",
        "\n",
        "7. SMOKE: 1.5354243135096318e-05\n",
        "\n",
        "8. CALC: 5.287157877798017e-61"
      ],
      "metadata": {
        "id": "GuWgccftLfr7"
      }
    },
    {
      "cell_type": "code",
      "source": [
        "#data types of each column\n",
        "print(df.dtypes)"
      ],
      "metadata": {
        "id": "iUGtiFJITGw4"
      },
      "execution_count": null,
      "outputs": []
    },
    {
      "cell_type": "code",
      "source": [
        "#Storing the catagorical variables in a datafame\n",
        "features_cat = df[['Gender', 'family_history_with_overweight', 'FAVC','CAEC','SMOKE','SCC', 'MTRANS','CALC']]\n",
        "features_cat"
      ],
      "metadata": {
        "id": "Laf0JuOESpN3"
      },
      "execution_count": null,
      "outputs": []
    },
    {
      "cell_type": "code",
      "source": [
        "#Getting combinations of 4 features from 'features_cat' and storing them in 'listOfFeaturecombos'\n",
        "listOfFeaturecombos = []\n",
        "for features in combinations(features_cat, 4):\n",
        "  print(features)\n",
        "  list(features)"
      ],
      "metadata": {
        "id": "CbE35LZqTclb"
      },
      "execution_count": null,
      "outputs": []
    },
    {
      "cell_type": "code",
      "source": [
        "#LOGISTIC REGRESSION\n",
        "#Defining a pipeline for logistic regression\n",
        "pipeline_rg = make_pipeline(\n",
        "    OneHotEncoder(handle_unknown='ignore'),\n",
        "    LogisticRegression(random_state=0)\n",
        ")\n",
        "#Creating a dictionary to store f1 scores for different feature combinations\n",
        "f1_logistic= {}\n",
        "\n",
        "#Creating a for loop to iterate over different sizes of feature combinations\n",
        "#from 1 to 7. We picked the range from 1 to 7 because we have 7 categorical\n",
        "#variables, resulting in numerous possible combinations. By iterating over this\n",
        "#range, we ensure that we can explore all possible combinations of features.\n",
        "\n",
        "for size in range(1,8):\n",
        "    for features in combinations(features_cat, size):\n",
        "      #Preforming cross valifationa fn calcualting f1 scores\n",
        "        scores = cross_val_score(\n",
        "            pipeline_rg, #logistic regression pipleine\n",
        "            X=df[list(features)], #features sselected\n",
        "            y=df['NObeyesdad'], #target\n",
        "            scoring='f1_macro', #scoring matric, were doing f1 because we are predicting a catagorical variable and it is best for its senestivty with false postives and false negativees\n",
        "            cv=5 #number of folds\n",
        "        )\n",
        "\n",
        "        f1_logistic[str(list(features))] = scores.mean() #stores the mean f1 in the difctionary as a string\n",
        "\n",
        "f1_logistic"
      ],
      "metadata": {
        "id": "uNZ6-JqdTuKf"
      },
      "execution_count": null,
      "outputs": []
    },
    {
      "cell_type": "code",
      "source": [
        "#sorting the F1 scores in decending order and storing it in a series\n",
        "f1_logistic_sorted = pd.Series(f1_logistic).sort_values(ascending=False)\n",
        "f1_logistic_sorted"
      ],
      "metadata": {
        "colab": {
          "base_uri": "https://localhost:8080/"
        },
        "id": "4ahfoqNWUJ8Q",
        "outputId": "426fb79b-37e6-40e1-ed44-0f491ff0523d"
      },
      "execution_count": null,
      "outputs": [
        {
          "output_type": "execute_result",
          "data": {
            "text/plain": [
              "['Gender', 'family_history_with_overweight', 'FAVC', 'CAEC', 'SCC', 'MTRANS', 'CALC']      0.497277\n",
              "['Gender', 'family_history_with_overweight', 'FAVC', 'CAEC', 'SMOKE', 'MTRANS', 'CALC']    0.477130\n",
              "['Gender', 'FAVC', 'CAEC', 'SMOKE', 'SCC', 'MTRANS', 'CALC']                               0.476902\n",
              "['Gender', 'family_history_with_overweight', 'FAVC', 'CAEC', 'SCC', 'CALC']                0.475879\n",
              "['Gender', 'family_history_with_overweight', 'FAVC', 'CAEC', 'SMOKE', 'SCC', 'CALC']       0.475430\n",
              "                                                                                             ...   \n",
              "['FAVC', 'SMOKE']                                                                          0.094444\n",
              "['SMOKE', 'SCC']                                                                           0.082850\n",
              "['FAVC']                                                                                   0.082441\n",
              "['SCC']                                                                                    0.063095\n",
              "['SMOKE']                                                                                  0.052965\n",
              "Length: 254, dtype: float64"
            ]
          },
          "metadata": {},
          "execution_count": 45
        }
      ]
    },
    {
      "cell_type": "code",
      "source": [
        "#Getting th4e max F1 score from the sorted scores\n",
        "bestf1_logistic = [f1_logistic_sorted.max()]\n",
        "bestf1_logistic"
      ],
      "metadata": {
        "colab": {
          "base_uri": "https://localhost:8080/"
        },
        "id": "n_TSeFWpUNLJ",
        "outputId": "024be7ad-f8da-4736-edbf-e4e1b7770235"
      },
      "execution_count": null,
      "outputs": [
        {
          "output_type": "execute_result",
          "data": {
            "text/plain": [
              "[0.49727680775260286]"
            ]
          },
          "metadata": {},
          "execution_count": 46
        }
      ]
    },
    {
      "cell_type": "markdown",
      "source": [
        "From the logistic regression model, our highest F1 score is 0.49, which isn't ideal because we aim for our F1 score to be as close to 1 as possible. We will perform two additional tests to identify which ones give us our highest F1 score. Also, the combination of features ['Gender', 'family_history_with_overweight', 'FAVC', 'CAEC', 'SCC', 'MTRANS', 'CALC'] has the highest F1 score of approximately 0.497277 in the logistic regression model."
      ],
      "metadata": {
        "id": "U-VabAHqyUCs"
      }
    },
    {
      "cell_type": "code",
      "source": [
        "#Defining a pipeline for K Neareast KNN Classifier\n",
        "pipeline_kn = make_pipeline(\n",
        "    OneHotEncoder(handle_unknown='ignore'),\n",
        "    KNeighborsClassifier(n_neighbors = 5)\n",
        ")\n",
        "\n",
        "#Creating a dictionary to store F1 scores\n",
        "f1_class = {}\n",
        "\n",
        "#Iterate over the feature combintions from 1 to 7\n",
        "for size in range(1,8):\n",
        "    for features in combinations(features_cat, size):\n",
        "      #preformiong a cross valadation and calcuatling F1 scores\n",
        "        scores = cross_val_score(\n",
        "            pipeline_kn, #KNN pipeline\n",
        "            X=df[list(features)], #Features\n",
        "            y=df['NObeyesdad'], #Target\n",
        "            scoring='f1_macro', #scoring\n",
        "            cv=5 # number of folds\n",
        "        )\n",
        "        #storing the mean score for feature combination as a string\n",
        "        f1_class[str(list(features))] = scores.mean()\n",
        "\n",
        "f1_class"
      ],
      "metadata": {
        "id": "YuuveaXwUZpS"
      },
      "execution_count": null,
      "outputs": []
    },
    {
      "cell_type": "code",
      "source": [
        "#sorting the F1 scores in decending order and storing it in a series\n",
        "\n",
        "f1_class_sorted = pd.Series(f1_class).sort_values(ascending=False)\n",
        "f1_class_sorted"
      ],
      "metadata": {
        "colab": {
          "base_uri": "https://localhost:8080/"
        },
        "id": "W6vxp99KVIt8",
        "outputId": "7001ff03-903d-4c5a-fd69-b813eca01e14"
      },
      "execution_count": null,
      "outputs": [
        {
          "output_type": "execute_result",
          "data": {
            "text/plain": [
              "['Gender', 'family_history_with_overweight', 'CAEC', 'SMOKE', 'SCC', 'MTRANS', 'CALC']     0.227470\n",
              "['Gender', 'family_history_with_overweight', 'CAEC', 'SMOKE', 'MTRANS', 'CALC']            0.212506\n",
              "['Gender', 'family_history_with_overweight', 'CAEC', 'SCC', 'MTRANS', 'CALC']              0.208651\n",
              "['Gender', 'family_history_with_overweight', 'FAVC', 'CAEC', 'SCC', 'MTRANS', 'CALC']      0.202239\n",
              "['Gender', 'family_history_with_overweight', 'FAVC', 'CAEC', 'SMOKE', 'MTRANS', 'CALC']    0.198177\n",
              "                                                                                             ...   \n",
              "['family_history_with_overweight', 'FAVC', 'MTRANS']                                       0.032964\n",
              "['Gender', 'family_history_with_overweight', 'MTRANS']                                     0.032614\n",
              "['CAEC', 'SMOKE', 'SCC', 'MTRANS']                                                         0.031534\n",
              "['CAEC', 'SMOKE', 'SCC']                                                                   0.030689\n",
              "['CAEC', 'SCC']                                                                            0.030665\n",
              "Length: 254, dtype: float64"
            ]
          },
          "metadata": {},
          "execution_count": 48
        }
      ]
    },
    {
      "cell_type": "code",
      "source": [
        "#Getting the max F1 score from the sorted F1 scores from the KNN model\n",
        "bestf1_class = [f1_class_sorted.max()]\n",
        "bestf1_class"
      ],
      "metadata": {
        "colab": {
          "base_uri": "https://localhost:8080/"
        },
        "id": "4qLd0vb-VKVG",
        "outputId": "1e92a5ea-8876-4ee7-b3dd-d6fbbf956c44"
      },
      "execution_count": null,
      "outputs": [
        {
          "output_type": "execute_result",
          "data": {
            "text/plain": [
              "[0.227469554051408]"
            ]
          },
          "metadata": {},
          "execution_count": 49
        }
      ]
    },
    {
      "cell_type": "markdown",
      "source": [
        "\n",
        "The combination of features ['Gender', 'family_history_with_overweight', 'CAEC', 'SMOKE', 'SCC', 'MTRANS', 'CALC'] achieved the highest F1 score of approximately 0.227470 in the k-Nearest Neighbors (KNN) model. However, it is notably lower compared to the logistic regression model's performance"
      ],
      "metadata": {
        "id": "dHrzRihpzVP_"
      }
    },
    {
      "cell_type": "code",
      "source": [
        "#DECISIONTREE\n",
        "#Creating a pipeline for Decision Tree Classifier\n",
        "pipeline_dt = make_pipeline(\n",
        "    OneHotEncoder(handle_unknown='ignore'),\n",
        "    DecisionTreeClassifier(random_state=0)\n",
        ")\n",
        "\n",
        "#Creating a dictionary to store the F1 scores for the features\n",
        "f1_DT = {}\n",
        "\n",
        "#Iterate over the feature combintions from 1 to 7\n",
        "for size in range(1,8):\n",
        "    for features in combinations(features_cat, size):\n",
        "      ##preformiong a cross valadation and calcuatling F1 scores\n",
        "        scores = cross_val_score(\n",
        "            pipeline_dt, #Decision Tree pipeline\n",
        "            X=df[list(features)],  #Features\n",
        "            y=df['NObeyesdad'], #Target\n",
        "            scoring='f1_macro', #Scoring\n",
        "            cv=5 #number of folds\n",
        "        )\n",
        "        #storing the mean score for feature combination as a string\n",
        "        f1_DT[str(list(features))] = scores.mean()\n",
        "\n",
        "f1_DT"
      ],
      "metadata": {
        "id": "G3BmYAZRUQG-"
      },
      "execution_count": null,
      "outputs": []
    },
    {
      "cell_type": "code",
      "source": [
        "#sorting the F1 scores in desending order and storing them as a series\n",
        "f1_DT_sorted = pd.Series(f1_DT).sort_values(ascending=False)\n",
        "f1_DT_sorted"
      ],
      "metadata": {
        "colab": {
          "base_uri": "https://localhost:8080/"
        },
        "id": "IBSnWfKrUUHp",
        "outputId": "516359ac-57c7-4ed3-bcf3-f77349faa394"
      },
      "execution_count": null,
      "outputs": [
        {
          "output_type": "execute_result",
          "data": {
            "text/plain": [
              "['Gender', 'family_history_with_overweight', 'FAVC', 'CAEC', 'SCC', 'MTRANS', 'CALC']      0.578565\n",
              "['Gender', 'family_history_with_overweight', 'FAVC', 'CAEC', 'SMOKE', 'MTRANS', 'CALC']    0.562317\n",
              "['Gender', 'family_history_with_overweight', 'FAVC', 'CAEC', 'MTRANS', 'CALC']             0.557977\n",
              "['Gender', 'family_history_with_overweight', 'CAEC', 'SMOKE', 'SCC', 'MTRANS', 'CALC']     0.537799\n",
              "['Gender', 'family_history_with_overweight', 'CAEC', 'SCC', 'MTRANS', 'CALC']              0.537437\n",
              "                                                                                             ...   \n",
              "['FAVC', 'SMOKE']                                                                          0.094444\n",
              "['FAVC']                                                                                   0.085347\n",
              "['SMOKE', 'SCC']                                                                           0.082850\n",
              "['SCC']                                                                                    0.063095\n",
              "['SMOKE']                                                                                  0.049781\n",
              "Length: 254, dtype: float64"
            ]
          },
          "metadata": {},
          "execution_count": 51
        }
      ]
    },
    {
      "cell_type": "code",
      "source": [
        "#Getting the max F1 score from the sorted F1 scores from the Decision Tree model\n",
        "bestf1_dt = [f1_DT_sorted.max()]\n",
        "bestf1_dt"
      ],
      "metadata": {
        "colab": {
          "base_uri": "https://localhost:8080/"
        },
        "id": "wLbYP7cQUVyu",
        "outputId": "6230f072-c40d-4eeb-bc08-16c4c82a2a78"
      },
      "execution_count": null,
      "outputs": [
        {
          "output_type": "execute_result",
          "data": {
            "text/plain": [
              "[0.5785654912513433]"
            ]
          },
          "metadata": {},
          "execution_count": 52
        }
      ]
    },
    {
      "cell_type": "markdown",
      "source": [
        "\n",
        "The combination of features ['Gender', 'family_history_with_overweight', 'FAVC', 'CAEC', 'SCC', 'MTRANS', 'CALC'] has the highest F1 score of approximately 0.578565 in the Decision Tree model. Which is greater than the other models we have."
      ],
      "metadata": {
        "id": "FZpAR4WY1AeP"
      }
    },
    {
      "cell_type": "markdown",
      "source": [
        "Below we are creating a confusion matrixcs for our Decision Tree Model"
      ],
      "metadata": {
        "id": "dbz_hSUc09Cc"
      }
    },
    {
      "cell_type": "code",
      "source": [
        "#creating a label for the confsuion matrix\n",
        "labels = [\"Normal_Weight\", \"Overweight_Level_I\", \"Overweight_Level_II\", \"Obesity_Type_I\", \"Insufficient_Weight\", \"Obesity_Type_II\", \"Obesity_Type_III\"]"
      ],
      "metadata": {
        "id": "7wjrP2BZWH7M"
      },
      "execution_count": null,
      "outputs": []
    },
    {
      "cell_type": "code",
      "source": [
        "\n",
        "X = df[['Gender', 'family_history_with_overweight', 'FAVC','CAEC','SMOKE','SCC', 'MTRANS','CALC']] #features\n",
        "y = df['NObeyesdad'] #Target\n",
        "pipeline_dt #Decsion Tree pipline defined above\n",
        "#getting prediction using cross val\n",
        "y_pred = cross_val_predict( pipeline_dt , X , y, cv = 4 ) #\n",
        "y_pred\n"
      ],
      "metadata": {
        "colab": {
          "base_uri": "https://localhost:8080/"
        },
        "id": "jRdQgOX3WUrc",
        "outputId": "6274ba80-3696-49a8-f71b-244062a1d6e5"
      },
      "execution_count": null,
      "outputs": [
        {
          "output_type": "execute_result",
          "data": {
            "text/plain": [
              "array(['Overweight_Level_II', 'Normal_Weight', 'Overweight_Level_II', ...,\n",
              "       'Obesity_Type_III', 'Obesity_Type_III', 'Obesity_Type_III'],\n",
              "      dtype=object)"
            ]
          },
          "metadata": {},
          "execution_count": 54
        }
      ]
    },
    {
      "cell_type": "code",
      "source": [
        "# gettting the confusion matrix using the actual target variable (y) and the predicted values (y_pred)\n",
        "\n",
        "conf_matrix = confusion_matrix(y, y_pred)\n",
        "conf_matrix"
      ],
      "metadata": {
        "colab": {
          "base_uri": "https://localhost:8080/"
        },
        "id": "kXUzz5TXWWMG",
        "outputId": "57148364-be06-492b-a9c9-2c8451c7a0e2"
      },
      "execution_count": null,
      "outputs": [
        {
          "output_type": "execute_result",
          "data": {
            "text/plain": [
              "array([[206,  26,   5,  31,   1,   2,   1],\n",
              "       [ 57, 129,  24,  18,  10,  21,  28],\n",
              "       [  8,  16, 188,  87,  31,   4,  17],\n",
              "       [ 15,   7,  55, 218,   1,   1,   0],\n",
              "       [  0,   2,   0,   0, 321,   0,   1],\n",
              "       [ 12,  35,  53,  72,  26,  87,   5],\n",
              "       [ 30,  29,  28,  94,   5,  10,  94]])"
            ]
          },
          "metadata": {},
          "execution_count": 55
        }
      ]
    },
    {
      "cell_type": "code",
      "source": [
        "#creating a datafrom from the confusion matrix\n",
        "df_conf_matrix = pd.DataFrame(\n",
        "    conf_matrix, #confsuion matrix\n",
        "    index=labels, # row labels - true class labels\n",
        "    columns=labels #column lables - prediction class labels\n",
        ")\n",
        "\n",
        "print(df_conf_matrix)"
      ],
      "metadata": {
        "colab": {
          "base_uri": "https://localhost:8080/"
        },
        "id": "n6QfEK4BWXqx",
        "outputId": "da02e499-c2df-49ac-e7ca-92c5a4ab5565"
      },
      "execution_count": null,
      "outputs": [
        {
          "output_type": "stream",
          "name": "stdout",
          "text": [
            "                     Normal_Weight  Overweight_Level_I  Overweight_Level_II  \\\n",
            "Normal_Weight                  206                  26                    5   \n",
            "Overweight_Level_I              57                 129                   24   \n",
            "Overweight_Level_II              8                  16                  188   \n",
            "Obesity_Type_I                  15                   7                   55   \n",
            "Insufficient_Weight              0                   2                    0   \n",
            "Obesity_Type_II                 12                  35                   53   \n",
            "Obesity_Type_III                30                  29                   28   \n",
            "\n",
            "                     Obesity_Type_I  Insufficient_Weight  Obesity_Type_II  \\\n",
            "Normal_Weight                    31                    1                2   \n",
            "Overweight_Level_I               18                   10               21   \n",
            "Overweight_Level_II              87                   31                4   \n",
            "Obesity_Type_I                  218                    1                1   \n",
            "Insufficient_Weight               0                  321                0   \n",
            "Obesity_Type_II                  72                   26               87   \n",
            "Obesity_Type_III                 94                    5               10   \n",
            "\n",
            "                     Obesity_Type_III  \n",
            "Normal_Weight                       1  \n",
            "Overweight_Level_I                 28  \n",
            "Overweight_Level_II                17  \n",
            "Obesity_Type_I                      0  \n",
            "Insufficient_Weight                 1  \n",
            "Obesity_Type_II                     5  \n",
            "Obesity_Type_III                   94  \n"
          ]
        }
      ]
    },
    {
      "cell_type": "markdown",
      "source": [
        "Below is the confusion matrix displayed above. However, due to the lengthy labels, Colab ran out of space to display the matrix in a user-friendly manner. So, we have recreated the matrix below for better visibility."
      ],
      "metadata": {
        "id": "1OEL3n8In62q"
      }
    },
    {
      "cell_type": "markdown",
      "source": [
        "![Screenshot (122).png](data:image/png;base64,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)"
      ],
      "metadata": {
        "id": "zEozqvJ8gRBE"
      }
    },
    {
      "cell_type": "markdown",
      "source": [
        "Each row of the matrix corresponds to the true classifications, while each column represents the model's predictions. \"Insufficient Weight\" is the top performer, with the model correctly identifying 321 people, demonstrating a strong match between the model's predictions and the actual class. However, the model didnt do so welll with \"Obesity Type III,\" frequently misidentifying these people. This implies that the features used by the model might not have the specifications required to identify \"Obesity Type III\" from other similar categories."
      ],
      "metadata": {
        "id": "D66C5zPZNNeY"
      }
    }
  ]
}